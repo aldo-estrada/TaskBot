{
 "cells": [
  {
   "cell_type": "code",
   "execution_count": 7,
   "metadata": {},
   "outputs": [],
   "source": [
    "from langchain_core.prompts import ChatPromptTemplate\n",
    "from langchain.agents import AgentExecutor, create_tool_calling_agent\n",
    "from langchain_community.utilities import DuckDuckGoSearchAPIWrapper\n",
    "from langchain_community.tools import DuckDuckGoSearchResults\n",
    "from langchain_community.tools import WikipediaQueryRun\n",
    "from langchain_community.utilities import WikipediaAPIWrapper\n",
    "from langchain_ollama import ChatOllama\n",
    "from langchain_core.prompts import ChatPromptTemplate"
   ]
  },
  {
   "cell_type": "code",
   "execution_count": 2,
   "metadata": {},
   "outputs": [],
   "source": [
    "wrapper = DuckDuckGoSearchAPIWrapper(region=\"us-en\", time=\"d\", max_results=2)\n",
    "search = DuckDuckGoSearchResults(api_wrapper=wrapper)\n",
    "\n",
    "wikipedia = WikipediaQueryRun(api_wrapper=WikipediaAPIWrapper())\n"
   ]
  },
  {
   "cell_type": "code",
   "execution_count": null,
   "metadata": {},
   "outputs": [],
   "source": [
    "wikipedia.run(\"HUNTER X HUNTER\")"
   ]
  },
  {
   "cell_type": "code",
   "execution_count": 3,
   "metadata": {},
   "outputs": [],
   "source": [
    "tools = [search]"
   ]
  },
  {
   "cell_type": "code",
   "execution_count": 6,
   "metadata": {},
   "outputs": [],
   "source": [
    "\n",
    "llm = ChatOllama(\n",
    "    model=\"llama3.1\",\n",
    "    temperature=0,\n",
    ")"
   ]
  },
  {
   "cell_type": "code",
   "execution_count": 5,
   "metadata": {},
   "outputs": [],
   "source": [
    "prompt = ChatPromptTemplate.from_messages(\n",
    "    [\n",
    "        (\n",
    "            \"system\",\n",
    "            \"You are a helpful assistant. You can help me with my questions. You can also search the web for me.\",\n",
    "        ),\n",
    "        (\"placeholder\", \"{chat_history}\"),\n",
    "        (\"human\", \"{input}\"),\n",
    "        (\"placeholder\", \"{agent_scratchpad}\"),\n",
    "    ]\n",
    ")"
   ]
  },
  {
   "cell_type": "code",
   "execution_count": 7,
   "metadata": {},
   "outputs": [],
   "source": [
    "agent = create_tool_calling_agent(llm=llm, tools=tools, prompt=prompt)"
   ]
  },
  {
   "cell_type": "code",
   "execution_count": 12,
   "metadata": {},
   "outputs": [
    {
     "name": "stdout",
     "output_type": "stream",
     "text": [
      "\n",
      "\n",
      "\u001b[1m> Entering new AgentExecutor chain...\u001b[0m\n",
      "\u001b[32;1m\u001b[1;3m\n",
      "Invoking: `duckduckgo_results_json` with `{'query': 'high school news'}`\n",
      "\n",
      "\n",
      "\u001b[0m\u001b[36;1m\u001b[1;3msnippet: WINDER, GEORGIA - SEPTEMBER 5: A man visits a makeshift memorial outside of Apalachee High School on September 5, 2024 in Winder, Georgia. Two students and two teachers were shot and killed at the ..., title: Apalachee High School shooting: Grief, pain, hope and faith at church ..., link: https://www.fox5atlanta.com/news/apalachee-high-school-shooting-grief-pain-hope-faith-church-services, snippet: BALTIMORE -- Joppatowne High School students are expected to return to the classroom on Thursday following an emotional week since a shooting inside the school left a teenager dead. Staff will ..., title: Joppatowne High students expected to return to school ... - CBS News, link: https://www.cbsnews.com/baltimore/news/joppatowne-high-students-expected-to-return-to-school-thursday-in-wake-of-shooting/, snippet: Marcee Gray told relatives she had notified a school counselor about 30 minutes before her 14-year-old son, Colt Gray, allegedly fatally shot two students and two teachers at Apalachee High School ..., title: Teen Georgia school shooter Colt Gray's mom says she warned staff 30 ..., link: https://www.bostonherald.com/2024/09/08/teen-georgia-school-shooter-colt-grays-mom-says-she-warned-staff-30-minutes-prior/, snippet: According to an online obituary, his teaching career spanned multiple schools, including Haralson County High School, Mountain View High School and Apalachee High School, where he was known as ..., title: Apalachee High teacher killed in school shooting ... - 11Alive.com, link: https://www.11alive.com/article/news/special-reports/apalachee-high-shooting/apalachee-high-teacher-killed-school-shooting-remembered/85-72ff1610-7fde-460d-99b0-96ac77794e9b\u001b[0m\u001b[32;1m\u001b[1;3mBased on the search results, here are some of the latest news high school events:\n",
      "\n",
      "* A shooting at Apalachee High School in Georgia left two students and two teachers dead. Students are expected to return to class after an emotional week.\n",
      "* The mother of the 14-year-old student who allegedly carried out the shooting said she had notified a school counselor about 30 minutes before the incident.\n",
      "* One of the teachers killed in the shooting was remembered for his dedication to teaching at multiple schools, including Apalachee High School.\n",
      "\n",
      "These events are tragic and have caused widespread grief and concern among students, parents, and educators.\u001b[0m\n",
      "\n",
      "\u001b[1m> Finished chain.\u001b[0m\n"
     ]
    },
    {
     "data": {
      "text/plain": [
       "{'input': 'give me the lastest news highschool events',\n",
       " 'output': 'Based on the search results, here are some of the latest news high school events:\\n\\n* A shooting at Apalachee High School in Georgia left two students and two teachers dead. Students are expected to return to class after an emotional week.\\n* The mother of the 14-year-old student who allegedly carried out the shooting said she had notified a school counselor about 30 minutes before the incident.\\n* One of the teachers killed in the shooting was remembered for his dedication to teaching at multiple schools, including Apalachee High School.\\n\\nThese events are tragic and have caused widespread grief and concern among students, parents, and educators.'}"
      ]
     },
     "execution_count": 12,
     "metadata": {},
     "output_type": "execute_result"
    }
   ],
   "source": [
    "# Create an agent executor by passing in the agent and tools\n",
    "agent_executor = AgentExecutor(agent=agent, tools=tools, verbose=True)\n",
    "agent_executor.invoke({\"input\": \"give me the lastest news highschool events\"})"
   ]
  },
  {
   "cell_type": "code",
   "execution_count": 13,
   "metadata": {},
   "outputs": [
    {
     "name": "stdout",
     "output_type": "stream",
     "text": [
      "\n",
      "\n",
      "\u001b[1m> Entering new AgentExecutor chain...\u001b[0m\n",
      "\u001b[32;1m\u001b[1;3m\n",
      "Invoking: `duckduckgo_results_json` with `{'query': 'Apple Keynote event date'}`\n",
      "\n",
      "\n",
      "\u001b[0m\u001b[36;1m\u001b[1;3msnippet: Apple's Glowtime product launch event takes place today, and we're on hand to bring all the product news as it happens. Stick with us for the latest iPhone 16, Apple Watch 10 and AirPods 4 announcemen, title: Apple 'Glowtime' event live blog - Tom's Guide, link: https://www.tomsguide.com/phones/live/apple-glowtime-event-iphone-16, snippet: The Apple event 2024, set for Sept. 9, is the Cupertino-based tech giant's biggest showcase of the year as it unveils the new iPhone 16, Apple Watch Series 10, Apple Watch Ultra 3, and more., title: Apple 2024 'Glowtime' event live updates: iPhone 16, Apple ... - Mashable, link: https://mashable.com/live/apple-event-september-2024-live, snippet: Apple iPhone 16 launch event is on Monday, September 9 and you can tune into the big keynote with Tim Cook and Co. from 10:30 PM IST for those watching in India. Apple will be livestreaming the event on the YouTube channel and Events page. The company is hosting an in-person event where the announcements will be broadcasted., title: Apple iPhone 16 Launch Event: Where To Watch Live And What To ... - News18, link: https://www.news18.com/tech/apple-iphone-16-launch-event-where-to-watch-live-and-what-to-expect-from-apple-9043750.html, snippet: There's likely to be four new models announced at the event, which is similar to what Apple did last year. The new phones will allegedly be called the iPhone 16, 16 Plus, 16 Pro and 16 Pro Max ..., title: Apple Event 2024: All the iPhone 16, AirPods and Apple Watch ... - Yahoo, link: https://www.yahoo.com/news/apple-event-2024-all-the-iphone-16-airpods-and-apple-watch-news-expected-on-monday-192347492.html\u001b[0m\u001b[32;1m\u001b[1;3mApple's keynote event is scheduled to take place on Monday, September 9, 2024. The event will be livestreamed on the YouTube channel and Events page, and it is expected to feature the unveiling of the new iPhone 16, Apple Watch Series 10, Apple Watch Ultra 3, and more.\u001b[0m\n",
      "\n",
      "\u001b[1m> Finished chain.\u001b[0m\n"
     ]
    },
    {
     "data": {
      "text/plain": [
       "{'input': 'When is apples key note?',\n",
       " 'output': \"Apple's keynote event is scheduled to take place on Monday, September 9, 2024. The event will be livestreamed on the YouTube channel and Events page, and it is expected to feature the unveiling of the new iPhone 16, Apple Watch Series 10, Apple Watch Ultra 3, and more.\"}"
      ]
     },
     "execution_count": 13,
     "metadata": {},
     "output_type": "execute_result"
    }
   ],
   "source": [
    "agent_executor.invoke({\"input\": \"When is apples key note?\"})"
   ]
  },
  {
   "cell_type": "code",
   "execution_count": null,
   "metadata": {},
   "outputs": [],
   "source": []
  }
 ],
 "metadata": {
  "kernelspec": {
   "display_name": ".venv",
   "language": "python",
   "name": "python3"
  },
  "language_info": {
   "codemirror_mode": {
    "name": "ipython",
    "version": 3
   },
   "file_extension": ".py",
   "mimetype": "text/x-python",
   "name": "python",
   "nbconvert_exporter": "python",
   "pygments_lexer": "ipython3",
   "version": "3.10.11"
  }
 },
 "nbformat": 4,
 "nbformat_minor": 2
}
